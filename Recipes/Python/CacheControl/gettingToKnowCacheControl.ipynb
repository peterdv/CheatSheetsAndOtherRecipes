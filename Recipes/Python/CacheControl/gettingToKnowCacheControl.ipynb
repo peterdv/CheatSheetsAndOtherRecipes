{
 "cells": [
  {
   "cell_type": "markdown",
   "metadata": {},
   "source": [
    "# Getting to know CacheControl"
   ]
  },
  {
   "cell_type": "markdown",
   "metadata": {},
   "source": [
    "CacheControl is a port of the caching algorithms in httplib2 for use with requests session object.\n",
    "\n",
    "My initial examples of using Cache Control,\n",
    "pleass refer to the\n",
    "project site https://github.com/ionrock/cachecontrol\n",
    "and the\n",
    "documentation http://cachecontrol.readthedocs.org/en/latest/."
   ]
  },
  {
   "cell_type": "markdown",
   "metadata": {},
   "source": [
    "Install the Cache Control package using\n",
    "`(cd ~/proj/CheatSheetsAndOtherRecipes; pipenv install CacheControl)`\n"
   ]
  },
  {
   "cell_type": "code",
   "execution_count": 1,
   "metadata": {},
   "outputs": [
    {
     "name": "stdout",
     "output_type": "stream",
     "text": [
      "<Response [200]>\n",
      "<Response [200]>\n"
     ]
    }
   ],
   "source": [
    "import requests\n",
    "from cachecontrol import CacheControl\n",
    "\n",
    "\n",
    "sess = requests.session()\n",
    "cachedSess = CacheControl(sess)\n",
    "\n",
    "r       = sess.get('http://google.com')\n",
    "print(r)\n",
    "rCached = cachedSess.get('http://google.com')\n",
    "print(rCached)"
   ]
  },
  {
   "cell_type": "code",
   "execution_count": 2,
   "metadata": {},
   "outputs": [
    {
     "name": "stdout",
     "output_type": "stream",
     "text": [
      "Current time: 2020-07-21 09:13:05.231052+00:00\n",
      "Extra headers in the cached response:  []\n",
      "Missing headers in the cached response:  ['P3P']\n",
      "...  P3P: \"CP=\"This is not a P3P policy! See g.co/p3phelp for more info.\"\"\n",
      "Changed headers in the cached response:  ['Content-Length', 'Set-Cookie']\n",
      "...  \"Content-Length\":\n",
      "...      Original   : \"5614\"\n",
      "...      Changed to : \"5611\"\n",
      "...  \"Set-Cookie\":\n",
      "...      Original   : \"1P_JAR=2020-07-21-09; expires=Thu, 20-Aug-2020 09:13:05 GMT; path=/; domain=.google.com; Secure, NID=204=EXxpbUoYS_CtkuQ9i0B468nVlaslasJfDOdQO8fwBEwqtaa1JFMmlP8Xq9WXOt4Y6fVhIlQgCZ79Yc-At9q7WILHKsrUYDkli0xMFH516rFOzvGYhkpOdYNBgUIQRUtff1rpLrv8kMRwc1_tNod3ow3p6HF5zVG-ocVXbffGqHM; expires=Wed, 20-Jan-2021 09:13:05 GMT; path=/; domain=.google.com; HttpOnly\"\n",
      "...      Changed to : \"1P_JAR=2020-07-21-09; expires=Thu, 20-Aug-2020 09:13:05 GMT; path=/; domain=.google.com; Secure\"\n"
     ]
    }
   ],
   "source": [
    "import datetime\n",
    "\n",
    "def changedResponseHeaders(rOrig, rNew):\n",
    "    ch = {}\n",
    "    ch['new'] = []\n",
    "    ch['missing'] = []\n",
    "    ch['changed'] = []\n",
    "    \n",
    "    for k in rNew.headers.keys():\n",
    "        if not k in rOrig.headers:\n",
    "            ch['new'].append(k)\n",
    "            \n",
    "    for k in rOrig.headers.keys():\n",
    "        if not k in rNew.headers:\n",
    "            ch['missing'].append(k)\n",
    "    \n",
    "    for k in rNew.headers.keys():\n",
    "        if k in rOrig.headers.keys() and not rNew.headers[k] == rOrig.headers[k]:\n",
    "            ch['changed'].append(k)\n",
    "\n",
    "    return ch\n",
    "\n",
    "crh = changedResponseHeaders(r, rCached)\n",
    "\n",
    "print('Current time:', datetime.datetime.now(tz=datetime.timezone.utc))\n",
    "print('Extra headers in the cached response: ', crh['new'])\n",
    "for k in crh['new']:\n",
    "    print('...  {0}: \"{1}\"'.format(k, rCached.headers[k]))\n",
    "\n",
    "print('Missing headers in the cached response: ', crh['missing'])\n",
    "for k in crh['missing']:\n",
    "    print('...  {0}: \"{1}\"'.format(k, r.headers[k]))\n",
    "        \n",
    "print('Changed headers in the cached response: ', crh['changed'])\n",
    "for k in crh['changed']:\n",
    "    print('...  \"{0}\":'.format(k))\n",
    "    print('...      Original   : \"{0}\"'.format((r.headers[k] if k in r.headers.keys() else '')))\n",
    "    print('...      Changed to : \"{0}\"'.format(rCached.headers[k]))\n",
    "\n"
   ]
  },
  {
   "cell_type": "markdown",
   "metadata": {},
   "source": [
    "## Housekeeping and infrastructure setup.\n",
    "\n",
    "Some boilerplate code."
   ]
  },
  {
   "cell_type": "code",
   "execution_count": 3,
   "metadata": {},
   "outputs": [],
   "source": [
    "P_NAME = 'gettingToKnowCacheControl'\n",
    "P_TMP_DIR = '/tmp/' + P_NAME \n",
    "P_CACHE_DIR = P_TMP_DIR + '/cache'\n",
    "P_PERSISTENCE_DIR = P_TMP_DIR + '/persistence'\n",
    "\n",
    "def typename(x): return type(x).__name__\n",
    "def classname(x): return x.__class__.__qualname__\n",
    "\n",
    "#\n",
    "# Set up logging\n",
    "#\n",
    "import os\n",
    "import logging, logging.handlers\n",
    "\n",
    "LOGFORMAT = '%(asctime)s %(name)s %(levelname)-8s: %(message)s'\n",
    "LOGDATEFORMAT = '%Y-%m-%d %H:%M:%S'\n",
    "NAME = 'getttingToKnowCacheControl'\n",
    "\n",
    "logFormatter = logging.Formatter(fmt=LOGFORMAT, datefmt=LOGDATEFORMAT)\n",
    "#\n",
    "logger = logging.getLogger(NAME)\n",
    "logger.setLevel(logging.DEBUG)\n",
    "\n",
    "# log to file\n",
    "logdir = filename='{0}'.format(P_TMP_DIR, NAME)\n",
    "os.makedirs(logdir, exist_ok=True)\n",
    "logFileHandler = logging.handlers.RotatingFileHandler(filename='{0}/{1}.log'.format(logdir, P_NAME),\n",
    "                                                      mode='a',\n",
    "                                                      maxBytes=100*1024, backupCount=5)\n",
    "logFileHandler.setLevel(logging.DEBUG)\n",
    "logFileHandler.setFormatter(logFormatter)\n",
    "logger.addHandler(logFileHandler)\n",
    "#\n",
    "\n"
   ]
  },
  {
   "cell_type": "markdown",
   "metadata": {},
   "source": [
    "## Use files for persistant caching"
   ]
  },
  {
   "cell_type": "markdown",
   "metadata": {},
   "source": [
    "The FileCache is similar to the caching mechanism provided by httplib2. \n",
    "It requires lockfile be installed \n",
    "as it prevents multiple threads from writing to the same file at the same time.\n",
    "\n",
    "You can install this dependency automatically with pip by requesting the filecache extra \n",
    "`pipenv install cachecontrol[filecache]`"
   ]
  },
  {
   "cell_type": "code",
   "execution_count": 4,
   "metadata": {},
   "outputs": [
    {
     "name": "stdout",
     "output_type": "stream",
     "text": [
      "<Response [200]>\n"
     ]
    }
   ],
   "source": [
    "import requests\n",
    "from cachecontrol import CacheControl\n",
    "from cachecontrol.caches.file_cache import FileCache\n",
    "\n",
    "cachedir = P_CACHE_DIR\n",
    "os.makedirs(cachedir, exist_ok=True)\n",
    "\n",
    "cachedSess = CacheControl(requests.Session(),\n",
    "                    cache=FileCache(cachedir))\n",
    "response = cachedSess.get('http://google.com')\n",
    "print(response)"
   ]
  },
  {
   "cell_type": "markdown",
   "metadata": {},
   "source": [
    "## Explicit control of Caching Strategy"
   ]
  },
  {
   "cell_type": "code",
   "execution_count": 7,
   "metadata": {},
   "outputs": [],
   "source": [
    "import datetime\n",
    "import requests\n",
    "from cachecontrol import CacheControl\n",
    "from cachecontrol.heuristics import BaseHeuristic\n",
    "from cachecontrol.caches.file_cache import FileCache\n",
    "from email.utils import parsedate, formatdate\n",
    "import calendar\n",
    "\n",
    "\n",
    "class OneWeekHeuristic(BaseHeuristic):\n",
    "    def __init__(self):\n",
    "        logger.debug('Class \"%s\" instantiated.',\n",
    "                     classname(self)) \n",
    "\n",
    "    def update_headers(self, response):\n",
    "        logger.debug('\"%s\": response header \"date\" = %s.',\n",
    "                     classname(self),\n",
    "                     str(response.headers['date']))\n",
    "        logger.debug('\"%s\": response header \"expires\" = %s.',\n",
    "                     classname(self),\n",
    "                     str(response.headers['cache-control']))\n",
    "        logger.debug('\"%s\": response header \"expires\" = %s.',\n",
    "                     classname(self),\n",
    "                     str(response.headers['cache-control']))\n",
    "        date = parsedate(response.headers['date'])\n",
    "        expires = datetime.datetime(*date[:6]) + datetime.timedelta(weeks=1)\n",
    "        logger.debug('\"%s\": modified header \"expires\" = %s.',\n",
    "                     classname(self),\n",
    "                     str(expires))\n",
    "        \n",
    "        return {\n",
    "            'expires' : formatdate(calendar.timegm(expires.timetuple())),\n",
    "            'cache-control' : 'public',\n",
    "        }\n",
    "\n",
    "    def warning(self, response):\n",
    "        msg = 'Automatically cached! Response is Stale.'\n",
    "        return '110 - \"%s\"' % msg\n",
    "\n",
    "cachedir = P_CACHE_DIR\n",
    "os.makedirs(cachedir, exist_ok=True)\n",
    "r       = sess.get('http://google.com')\n",
    "cachedSess = CacheControl(requests.Session(), \n",
    "                          heuristic=OneWeekHeuristic(),\n",
    "                          cache=FileCache(cachedir))\n",
    "rCached = cachedSess.get('http://google.com')\n",
    "assert rCached.from_cache\n"
   ]
  },
  {
   "cell_type": "code",
   "execution_count": 8,
   "metadata": {},
   "outputs": [
    {
     "name": "stdout",
     "output_type": "stream",
     "text": [
      "Current time: 2020-07-21 09:14:46.273339+00:00\n",
      "Extra headers in the cached response:  ['P3P', 'Warning']\n",
      "...  P3P: \"CP=\"This is not a P3P policy! See g.co/p3phelp for more info.\"\"\n",
      "...  Warning: \"110 - \"Automatically cached! Response is Stale.\"\"\n",
      "Missing headers in the cached response:  []\n",
      "Changed headers in the cached response:  ['Date', 'expires', 'cache-control', 'Content-Length', 'Set-Cookie']\n",
      "...  \"Date\":\n",
      "...      Original   : \"Tue, 21 Jul 2020 09:14:42 GMT\"\n",
      "...      Changed to : \"Tue, 21 Jul 2020 07:10:49 GMT\"\n",
      "...  \"expires\":\n",
      "...      Original   : \"-1\"\n",
      "...      Changed to : \"Tue, 28 Jul 2020 07:10:49 -0000\"\n",
      "...  \"cache-control\":\n",
      "...      Original   : \"private, max-age=0\"\n",
      "...      Changed to : \"public\"\n",
      "...  \"Content-Length\":\n",
      "...      Original   : \"5616\"\n",
      "...      Changed to : \"5639\"\n",
      "...  \"Set-Cookie\":\n",
      "...      Original   : \"1P_JAR=2020-07-21-09; expires=Thu, 20-Aug-2020 09:14:42 GMT; path=/; domain=.google.com; Secure\"\n",
      "...      Changed to : \"NID=204=G3q-wj68d-u3bZi_K_q3VB3o3XtrM45Sn3j9qX-kjka1xe3AF_ie4oRWmdkR6GE_K6JxultbztXhYyGirWVYdIAmBTY3Gt4ruhRzQSF1IT4w0EGVxG-xSrZbJfZ9wp7MV_3TBFfe_E9EJ0ue2gCzroHQqjisU0TMdh7EBy4ivGc; expires=Wed, 20-Jan-2021 07:10:49 GMT; path=/; domain=.google.com; HttpOnly\"\n"
     ]
    }
   ],
   "source": [
    "crh = changedResponseHeaders(r, rCached)\n",
    "\n",
    "print('Current time:', datetime.datetime.now(tz=datetime.timezone.utc))\n",
    "print('Extra headers in the cached response: ', crh['new'])\n",
    "for k in crh['new']:\n",
    "    print('...  {0}: \"{1}\"'.format(k, rCached.headers[k]))\n",
    "\n",
    "print('Missing headers in the cached response: ', crh['missing'])\n",
    "for k in crh['missing']:\n",
    "    print('...  {0}: \"{1}\"'.format(k, r.headers[k]))\n",
    "        \n",
    "print('Changed headers in the cached response: ', crh['changed'])\n",
    "for k in crh['changed']:\n",
    "    print('...  \"{0}\":'.format(k))\n",
    "    print('...      Original   : \"{0}\"'.format((r.headers[k] if k in r.headers.keys() else '')))\n",
    "    print('...      Changed to : \"{0}\"'.format(rCached.headers[k]))\n"
   ]
  },
  {
   "cell_type": "markdown",
   "metadata": {},
   "source": [
    "## Scratchpad for inspecting Caching Policy of a ressource"
   ]
  },
  {
   "cell_type": "code",
   "execution_count": 25,
   "metadata": {},
   "outputs": [
    {
     "name": "stdout",
     "output_type": "stream",
     "text": [
      "\n",
      "url = \"http://google.com\"\n",
      " * Cache-Control: private, max-age=0\n",
      " * Date: Tue, 21 Jul 2020 11:24:49 GMT\n",
      " * Expires: -1\n",
      " * Set-Cookie: 1P_JAR=2020-07-21-11; expires=Thu, 20-Aug-2020 11:24:49 GMT; path=/; domain=.google.com; Secure\n",
      "\n",
      "url = \"http://coop.dk\"\n",
      " * Cache-Control: private\n",
      " * Date: Tue, 21 Jul 2020 11:24:48 GMT\n",
      " * Set-Cookie: RichRelSession=545eb02e-08c6-4e45-8058-5b83477e0689; domain=local.dk; expires=Thu, 20-Aug-2020 11:24:49 GMT; path=/, rr_sessionId=ce053fec-9194-4c03-86bf-d6cab69ef43e; domain=local.dk; expires=Thu, 20-Aug-2020 11:24:49 GMT; path=/\n",
      "\n",
      "url = \"https://www.iso20022.org/market-identifier-codes\"\n",
      " * Cache-Control: private, no-cache, must-revalidate\n",
      " * Date: Tue, 21 Jul 2020 11:24:49 GMT\n",
      " * Expires: Tue, 21 Jul 2020 11:24:49 GMT\n"
     ]
    }
   ],
   "source": [
    "urls = []\n",
    "urls.append('http://google.com')\n",
    "urls.append('http://coop.dk')\n",
    "urls.append('https://www.iso20022.org/market-identifier-codes')\n",
    "hk = []\n",
    "hk.append('Cache-Control')\n",
    "hk.append('Date')\n",
    "hk.append('Expires')\n",
    "hk.append('Set-Cookie')\n",
    "#\n",
    "for url in urls:\n",
    "    print('')\n",
    "    print('url = \"{0}\"'.format(url))\n",
    "    r = sess.get(url)\n",
    "    for k in hk:\n",
    "        if k in r.headers.keys():\n",
    "            print(' * {0}: {1}'.format(k, r.headers[k]))\n",
    "    # print('Response header keys:')\n",
    "    # for k in r.headers.keys():\n",
    "    #     print('   \"{0}\"'.format(k))\n",
    "    # print(r.headers.keys())"
   ]
  },
  {
   "cell_type": "code",
   "execution_count": null,
   "metadata": {},
   "outputs": [],
   "source": []
  },
  {
   "cell_type": "code",
   "execution_count": null,
   "metadata": {},
   "outputs": [],
   "source": []
  }
 ],
 "metadata": {
  "kernelspec": {
   "display_name": "Python 3",
   "language": "python",
   "name": "python3"
  },
  "language_info": {
   "codemirror_mode": {
    "name": "ipython",
    "version": 3
   },
   "file_extension": ".py",
   "mimetype": "text/x-python",
   "name": "python",
   "nbconvert_exporter": "python",
   "pygments_lexer": "ipython3",
   "version": "3.6.9"
  }
 },
 "nbformat": 4,
 "nbformat_minor": 4
}
